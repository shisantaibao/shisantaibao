{
 "cells": [
  {
   "cell_type": "markdown",
   "metadata": {},
   "source": [
    "练习： 如果你输入150,那么应该是凌晨2:30,所以你的程序应该输出2：30"
   ]
  },
  {
   "cell_type": "code",
   "execution_count": 8,
   "metadata": {},
   "outputs": [
    {
     "name": "stdout",
     "output_type": "stream",
     "text": [
      "已经过去了多少分钟\n",
      ">>>70\n",
      "那么现在是0天1:10\n"
     ]
    }
   ],
   "source": [
    "passed_min = int(input(\"已经过去了多少分钟\\n>>>\"))\n",
    "days = passed_min //60 // 24\n",
    "hours = (passed_min //60) % 24\n",
    "passed_min = passed_min % 60\n",
    "print(\"那么现在是%s天%s:%s\" % (days,hours,passed_min))"
   ]
  },
  {
   "cell_type": "markdown",
   "metadata": {},
   "source": [
    "练习：第一个用two代替，第零个用one代替"
   ]
  },
  {
   "cell_type": "code",
   "execution_count": 2,
   "metadata": {
    "scrolled": true
   },
   "outputs": [
    {
     "name": "stdout",
     "output_type": "stream",
     "text": [
      "two one\n"
     ]
    }
   ],
   "source": [
    "print('{1} {0}'.format('one','two'))"
   ]
  }
 ],
 "metadata": {
  "kernelspec": {
   "display_name": "Python 3",
   "language": "python",
   "name": "python3"
  },
  "language_info": {
   "codemirror_mode": {
    "name": "ipython",
    "version": 3
   },
   "file_extension": ".py",
   "mimetype": "text/x-python",
   "name": "python",
   "nbconvert_exporter": "python",
   "pygments_lexer": "ipython3",
   "version": "3.7.3"
  }
 },
 "nbformat": 4,
 "nbformat_minor": 2
}
